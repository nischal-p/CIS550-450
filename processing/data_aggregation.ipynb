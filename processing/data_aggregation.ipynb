{
 "cells": [
  {
   "cell_type": "code",
   "execution_count": 1,
   "metadata": {},
   "outputs": [],
   "source": [
    "import pandas as pd"
   ]
  },
  {
   "cell_type": "code",
   "execution_count": 2,
   "metadata": {},
   "outputs": [],
   "source": [
    "df = pd.read_csv('track_basic.csv')"
   ]
  },
  {
   "cell_type": "code",
   "execution_count": 3,
   "metadata": {},
   "outputs": [
    {
     "output_type": "execute_result",
     "data": {
      "text/plain": [
       "                             title  artist duration_ms\n",
       "0            The Ghost of Tom Joad     813      263000\n",
       "1                    Five Man Army       4      364306\n",
       "2                    Five Man Army       4      364306\n",
       "3                    Five Man Army       4      364306\n",
       "4                    Five Man Army       4      364306\n",
       "5                    Five Man Army       4      364306\n",
       "6  Be Thankful for What You've Got       4      249693\n",
       "7  Be Thankful for What You've Got       4      249693\n",
       "8  Be Thankful for What You've Got       4      249693\n",
       "9  Be Thankful for What You've Got       4      249693"
      ],
      "text/html": "<div>\n<style scoped>\n    .dataframe tbody tr th:only-of-type {\n        vertical-align: middle;\n    }\n\n    .dataframe tbody tr th {\n        vertical-align: top;\n    }\n\n    .dataframe thead th {\n        text-align: right;\n    }\n</style>\n<table border=\"1\" class=\"dataframe\">\n  <thead>\n    <tr style=\"text-align: right;\">\n      <th></th>\n      <th>title</th>\n      <th>artist</th>\n      <th>duration_ms</th>\n    </tr>\n  </thead>\n  <tbody>\n    <tr>\n      <th>0</th>\n      <td>The Ghost of Tom Joad</td>\n      <td>813</td>\n      <td>263000</td>\n    </tr>\n    <tr>\n      <th>1</th>\n      <td>Five Man Army</td>\n      <td>4</td>\n      <td>364306</td>\n    </tr>\n    <tr>\n      <th>2</th>\n      <td>Five Man Army</td>\n      <td>4</td>\n      <td>364306</td>\n    </tr>\n    <tr>\n      <th>3</th>\n      <td>Five Man Army</td>\n      <td>4</td>\n      <td>364306</td>\n    </tr>\n    <tr>\n      <th>4</th>\n      <td>Five Man Army</td>\n      <td>4</td>\n      <td>364306</td>\n    </tr>\n    <tr>\n      <th>5</th>\n      <td>Five Man Army</td>\n      <td>4</td>\n      <td>364306</td>\n    </tr>\n    <tr>\n      <th>6</th>\n      <td>Be Thankful for What You've Got</td>\n      <td>4</td>\n      <td>249693</td>\n    </tr>\n    <tr>\n      <th>7</th>\n      <td>Be Thankful for What You've Got</td>\n      <td>4</td>\n      <td>249693</td>\n    </tr>\n    <tr>\n      <th>8</th>\n      <td>Be Thankful for What You've Got</td>\n      <td>4</td>\n      <td>249693</td>\n    </tr>\n    <tr>\n      <th>9</th>\n      <td>Be Thankful for What You've Got</td>\n      <td>4</td>\n      <td>249693</td>\n    </tr>\n  </tbody>\n</table>\n</div>"
     },
     "metadata": {},
     "execution_count": 3
    }
   ],
   "source": [
    "df.head(10)"
   ]
  },
  {
   "cell_type": "code",
   "execution_count": 4,
   "metadata": {},
   "outputs": [],
   "source": [
    "uniques = df.drop_duplicates(subset=['title', 'artist'])"
   ]
  },
  {
   "cell_type": "code",
   "execution_count": 5,
   "metadata": {},
   "outputs": [
    {
     "output_type": "execute_result",
     "data": {
      "text/plain": [
       "                                                      title   artist  \\\n",
       "0                                     The Ghost of Tom Joad      813   \n",
       "1                                             Five Man Army        4   \n",
       "6                           Be Thankful for What You've Got        4   \n",
       "11                                            Straight Time      813   \n",
       "12                                    Hymn of the Big Wheel        4   \n",
       "...                                                     ...      ...   \n",
       "33677265                                      Представление  1969257   \n",
       "33677266                                         Стоп! Ночь  1969257   \n",
       "33677274                             Zolang je bij mij bent    82099   \n",
       "33677282                         Daar zijn we vrienden voor    82099   \n",
       "33677286  Medley: Ik geef je een roosje / Sjakie / Ome Arie    82099   \n",
       "\n",
       "         duration_ms  \n",
       "0             263000  \n",
       "1             364306  \n",
       "6             249693  \n",
       "11            205000  \n",
       "12            397226  \n",
       "...              ...  \n",
       "33677265          \\N  \n",
       "33677266          \\N  \n",
       "33677274          \\N  \n",
       "33677282          \\N  \n",
       "33677286          \\N  \n",
       "\n",
       "[20785945 rows x 3 columns]"
      ],
      "text/html": "<div>\n<style scoped>\n    .dataframe tbody tr th:only-of-type {\n        vertical-align: middle;\n    }\n\n    .dataframe tbody tr th {\n        vertical-align: top;\n    }\n\n    .dataframe thead th {\n        text-align: right;\n    }\n</style>\n<table border=\"1\" class=\"dataframe\">\n  <thead>\n    <tr style=\"text-align: right;\">\n      <th></th>\n      <th>title</th>\n      <th>artist</th>\n      <th>duration_ms</th>\n    </tr>\n  </thead>\n  <tbody>\n    <tr>\n      <th>0</th>\n      <td>The Ghost of Tom Joad</td>\n      <td>813</td>\n      <td>263000</td>\n    </tr>\n    <tr>\n      <th>1</th>\n      <td>Five Man Army</td>\n      <td>4</td>\n      <td>364306</td>\n    </tr>\n    <tr>\n      <th>6</th>\n      <td>Be Thankful for What You've Got</td>\n      <td>4</td>\n      <td>249693</td>\n    </tr>\n    <tr>\n      <th>11</th>\n      <td>Straight Time</td>\n      <td>813</td>\n      <td>205000</td>\n    </tr>\n    <tr>\n      <th>12</th>\n      <td>Hymn of the Big Wheel</td>\n      <td>4</td>\n      <td>397226</td>\n    </tr>\n    <tr>\n      <th>...</th>\n      <td>...</td>\n      <td>...</td>\n      <td>...</td>\n    </tr>\n    <tr>\n      <th>33677265</th>\n      <td>Представление</td>\n      <td>1969257</td>\n      <td>\\N</td>\n    </tr>\n    <tr>\n      <th>33677266</th>\n      <td>Стоп! Ночь</td>\n      <td>1969257</td>\n      <td>\\N</td>\n    </tr>\n    <tr>\n      <th>33677274</th>\n      <td>Zolang je bij mij bent</td>\n      <td>82099</td>\n      <td>\\N</td>\n    </tr>\n    <tr>\n      <th>33677282</th>\n      <td>Daar zijn we vrienden voor</td>\n      <td>82099</td>\n      <td>\\N</td>\n    </tr>\n    <tr>\n      <th>33677286</th>\n      <td>Medley: Ik geef je een roosje / Sjakie / Ome Arie</td>\n      <td>82099</td>\n      <td>\\N</td>\n    </tr>\n  </tbody>\n</table>\n<p>20785945 rows × 3 columns</p>\n</div>"
     },
     "metadata": {},
     "execution_count": 5
    }
   ],
   "source": [
    "uniques"
   ]
  },
  {
   "cell_type": "code",
   "execution_count": 8,
   "metadata": {},
   "outputs": [],
   "source": [
    "uniques.to_csv('unique_tracks.csv')"
   ]
  },
  {
   "cell_type": "code",
   "execution_count": 6,
   "metadata": {},
   "outputs": [],
   "source": [
    "with open(\"artist_credit\", \"r\") as myfile, open('artist_basic.csv','w') as fw:\n",
    "    fw.write('id,artist,created\\n')\n",
    "    for line in myfile:\n",
    "        split_line = line.split('\\t')\n",
    "        id = split_line[0]\n",
    "        artist = split_line[1].replace('\"', \"\")\n",
    "        created = split_line[4][0:4]\n",
    "        \n",
    "        text = id + ',' + '\"' + artist + '\",' + created + '\\n'\n",
    "        fw.write(text)"
   ]
  },
  {
   "cell_type": "code",
   "execution_count": 2,
   "metadata": {},
   "outputs": [],
   "source": [
    "artists = pd.read_csv('artist_basic.csv')"
   ]
  },
  {
   "cell_type": "code",
   "execution_count": 3,
   "metadata": {},
   "outputs": [
    {
     "output_type": "execute_result",
     "data": {
      "text/plain": [
       "        id                                artist  created\n",
       "0   202094                            Ani & Beau     2011\n",
       "1   485926                    The Ascient Rebels     2011\n",
       "2  1009634  Charlie Parker feat. Dizzy Gillespie     2012\n",
       "3   548770                            Dead Blood     2011\n",
       "4   322256                           Dr. Kreator     2011\n",
       "5   539393             Rappa Roberts & Tippa Lee     2011\n",
       "6   670745                              Nonsense     2011\n",
       "7   961437                                   김한성     2012\n",
       "8  1167652         Saskia Tanfal & Marius Clarén     2013\n",
       "9   797484                      Sergeant Juggler     2011"
      ],
      "text/html": "<div>\n<style scoped>\n    .dataframe tbody tr th:only-of-type {\n        vertical-align: middle;\n    }\n\n    .dataframe tbody tr th {\n        vertical-align: top;\n    }\n\n    .dataframe thead th {\n        text-align: right;\n    }\n</style>\n<table border=\"1\" class=\"dataframe\">\n  <thead>\n    <tr style=\"text-align: right;\">\n      <th></th>\n      <th>id</th>\n      <th>artist</th>\n      <th>created</th>\n    </tr>\n  </thead>\n  <tbody>\n    <tr>\n      <th>0</th>\n      <td>202094</td>\n      <td>Ani &amp; Beau</td>\n      <td>2011</td>\n    </tr>\n    <tr>\n      <th>1</th>\n      <td>485926</td>\n      <td>The Ascient Rebels</td>\n      <td>2011</td>\n    </tr>\n    <tr>\n      <th>2</th>\n      <td>1009634</td>\n      <td>Charlie Parker feat. Dizzy Gillespie</td>\n      <td>2012</td>\n    </tr>\n    <tr>\n      <th>3</th>\n      <td>548770</td>\n      <td>Dead Blood</td>\n      <td>2011</td>\n    </tr>\n    <tr>\n      <th>4</th>\n      <td>322256</td>\n      <td>Dr. Kreator</td>\n      <td>2011</td>\n    </tr>\n    <tr>\n      <th>5</th>\n      <td>539393</td>\n      <td>Rappa Roberts &amp; Tippa Lee</td>\n      <td>2011</td>\n    </tr>\n    <tr>\n      <th>6</th>\n      <td>670745</td>\n      <td>Nonsense</td>\n      <td>2011</td>\n    </tr>\n    <tr>\n      <th>7</th>\n      <td>961437</td>\n      <td>김한성</td>\n      <td>2012</td>\n    </tr>\n    <tr>\n      <th>8</th>\n      <td>1167652</td>\n      <td>Saskia Tanfal &amp; Marius Clarén</td>\n      <td>2013</td>\n    </tr>\n    <tr>\n      <th>9</th>\n      <td>797484</td>\n      <td>Sergeant Juggler</td>\n      <td>2011</td>\n    </tr>\n  </tbody>\n</table>\n</div>"
     },
     "metadata": {},
     "execution_count": 3
    }
   ],
   "source": [
    "artists.head(10)"
   ]
  },
  {
   "cell_type": "code",
   "execution_count": 11,
   "metadata": {},
   "outputs": [
    {
     "output_type": "execute_result",
     "data": {
      "text/plain": [
       "                              title  artist duration_ms  year\n",
       "0             The Ghost of Tom Joad     813      263000  none\n",
       "1                     Five Man Army       4      364306  none\n",
       "6   Be Thankful for What You've Got       4      249693  none\n",
       "11                    Straight Time     813      205000  none\n",
       "12            Hymn of the Big Wheel       4      397226  none\n",
       "17                       Highway 29     813      219000  none\n",
       "18                           Lately       4      266493  none\n",
       "23                       Youngstown     813      232000  none\n",
       "24              Unfinished Sympathy       4      308293  none\n",
       "29      Flight of the Passing Fancy      11      232266  none"
      ],
      "text/html": "<div>\n<style scoped>\n    .dataframe tbody tr th:only-of-type {\n        vertical-align: middle;\n    }\n\n    .dataframe tbody tr th {\n        vertical-align: top;\n    }\n\n    .dataframe thead th {\n        text-align: right;\n    }\n</style>\n<table border=\"1\" class=\"dataframe\">\n  <thead>\n    <tr style=\"text-align: right;\">\n      <th></th>\n      <th>title</th>\n      <th>artist</th>\n      <th>duration_ms</th>\n      <th>year</th>\n    </tr>\n  </thead>\n  <tbody>\n    <tr>\n      <th>0</th>\n      <td>The Ghost of Tom Joad</td>\n      <td>813</td>\n      <td>263000</td>\n      <td>none</td>\n    </tr>\n    <tr>\n      <th>1</th>\n      <td>Five Man Army</td>\n      <td>4</td>\n      <td>364306</td>\n      <td>none</td>\n    </tr>\n    <tr>\n      <th>6</th>\n      <td>Be Thankful for What You've Got</td>\n      <td>4</td>\n      <td>249693</td>\n      <td>none</td>\n    </tr>\n    <tr>\n      <th>11</th>\n      <td>Straight Time</td>\n      <td>813</td>\n      <td>205000</td>\n      <td>none</td>\n    </tr>\n    <tr>\n      <th>12</th>\n      <td>Hymn of the Big Wheel</td>\n      <td>4</td>\n      <td>397226</td>\n      <td>none</td>\n    </tr>\n    <tr>\n      <th>17</th>\n      <td>Highway 29</td>\n      <td>813</td>\n      <td>219000</td>\n      <td>none</td>\n    </tr>\n    <tr>\n      <th>18</th>\n      <td>Lately</td>\n      <td>4</td>\n      <td>266493</td>\n      <td>none</td>\n    </tr>\n    <tr>\n      <th>23</th>\n      <td>Youngstown</td>\n      <td>813</td>\n      <td>232000</td>\n      <td>none</td>\n    </tr>\n    <tr>\n      <th>24</th>\n      <td>Unfinished Sympathy</td>\n      <td>4</td>\n      <td>308293</td>\n      <td>none</td>\n    </tr>\n    <tr>\n      <th>29</th>\n      <td>Flight of the Passing Fancy</td>\n      <td>11</td>\n      <td>232266</td>\n      <td>none</td>\n    </tr>\n  </tbody>\n</table>\n</div>"
     },
     "metadata": {},
     "execution_count": 11
    }
   ],
   "source": [
    "uniques.head(10)"
   ]
  },
  {
   "cell_type": "code",
   "execution_count": 4,
   "metadata": {},
   "outputs": [],
   "source": [
    "uniques = pd.read_csv('unique_tracks.csv')"
   ]
  },
  {
   "cell_type": "code",
   "execution_count": 7,
   "metadata": {},
   "outputs": [],
   "source": [
    "merged = uniques.merge(artists, left_on='artist', right_on='id')"
   ]
  },
  {
   "cell_type": "code",
   "execution_count": 9,
   "metadata": {},
   "outputs": [],
   "source": [
    "del merged['artist_x']"
   ]
  },
  {
   "cell_type": "code",
   "execution_count": 10,
   "metadata": {},
   "outputs": [
    {
     "output_type": "execute_result",
     "data": {
      "text/plain": [
       "          Unnamed: 0                  title duration_ms       id  \\\n",
       "0                  0  The Ghost of Tom Joad      263000      813   \n",
       "1                 11          Straight Time      205000      813   \n",
       "2                 17             Highway 29      219000      813   \n",
       "3                 23             Youngstown      232000      813   \n",
       "4                 58        Sinaloa Cowboys      231000      813   \n",
       "...              ...                    ...         ...      ...   \n",
       "20785940    33677104         Never Was Love      274900  2934598   \n",
       "20785941    33677105             Mellow Out      263400  2934599   \n",
       "20785942    33677106        Key To My Heart      157300  2934600   \n",
       "20785943    33677107    Blues Take You Over      214897  2934601   \n",
       "20785944    33677175    Don't Leave Tonight      231000  2934602   \n",
       "\n",
       "                                artist_y  created  \n",
       "0                      Bruce Springsteen     2011  \n",
       "1                      Bruce Springsteen     2011  \n",
       "2                      Bruce Springsteen     2011  \n",
       "3                      Bruce Springsteen     2011  \n",
       "4                      Bruce Springsteen     2011  \n",
       "...                                  ...      ...  \n",
       "20785940                       Russ Long     2021  \n",
       "20785941                  Pacific Dreams     2021  \n",
       "20785942  Miller, Miller, Miller & Sloan     2021  \n",
       "20785943                Scott Cunningham     2021  \n",
       "20785944     Conny Vandenbos & Janis Ian     2021  \n",
       "\n",
       "[20785945 rows x 6 columns]"
      ],
      "text/html": "<div>\n<style scoped>\n    .dataframe tbody tr th:only-of-type {\n        vertical-align: middle;\n    }\n\n    .dataframe tbody tr th {\n        vertical-align: top;\n    }\n\n    .dataframe thead th {\n        text-align: right;\n    }\n</style>\n<table border=\"1\" class=\"dataframe\">\n  <thead>\n    <tr style=\"text-align: right;\">\n      <th></th>\n      <th>Unnamed: 0</th>\n      <th>title</th>\n      <th>duration_ms</th>\n      <th>id</th>\n      <th>artist_y</th>\n      <th>created</th>\n    </tr>\n  </thead>\n  <tbody>\n    <tr>\n      <th>0</th>\n      <td>0</td>\n      <td>The Ghost of Tom Joad</td>\n      <td>263000</td>\n      <td>813</td>\n      <td>Bruce Springsteen</td>\n      <td>2011</td>\n    </tr>\n    <tr>\n      <th>1</th>\n      <td>11</td>\n      <td>Straight Time</td>\n      <td>205000</td>\n      <td>813</td>\n      <td>Bruce Springsteen</td>\n      <td>2011</td>\n    </tr>\n    <tr>\n      <th>2</th>\n      <td>17</td>\n      <td>Highway 29</td>\n      <td>219000</td>\n      <td>813</td>\n      <td>Bruce Springsteen</td>\n      <td>2011</td>\n    </tr>\n    <tr>\n      <th>3</th>\n      <td>23</td>\n      <td>Youngstown</td>\n      <td>232000</td>\n      <td>813</td>\n      <td>Bruce Springsteen</td>\n      <td>2011</td>\n    </tr>\n    <tr>\n      <th>4</th>\n      <td>58</td>\n      <td>Sinaloa Cowboys</td>\n      <td>231000</td>\n      <td>813</td>\n      <td>Bruce Springsteen</td>\n      <td>2011</td>\n    </tr>\n    <tr>\n      <th>...</th>\n      <td>...</td>\n      <td>...</td>\n      <td>...</td>\n      <td>...</td>\n      <td>...</td>\n      <td>...</td>\n    </tr>\n    <tr>\n      <th>20785940</th>\n      <td>33677104</td>\n      <td>Never Was Love</td>\n      <td>274900</td>\n      <td>2934598</td>\n      <td>Russ Long</td>\n      <td>2021</td>\n    </tr>\n    <tr>\n      <th>20785941</th>\n      <td>33677105</td>\n      <td>Mellow Out</td>\n      <td>263400</td>\n      <td>2934599</td>\n      <td>Pacific Dreams</td>\n      <td>2021</td>\n    </tr>\n    <tr>\n      <th>20785942</th>\n      <td>33677106</td>\n      <td>Key To My Heart</td>\n      <td>157300</td>\n      <td>2934600</td>\n      <td>Miller, Miller, Miller &amp; Sloan</td>\n      <td>2021</td>\n    </tr>\n    <tr>\n      <th>20785943</th>\n      <td>33677107</td>\n      <td>Blues Take You Over</td>\n      <td>214897</td>\n      <td>2934601</td>\n      <td>Scott Cunningham</td>\n      <td>2021</td>\n    </tr>\n    <tr>\n      <th>20785944</th>\n      <td>33677175</td>\n      <td>Don't Leave Tonight</td>\n      <td>231000</td>\n      <td>2934602</td>\n      <td>Conny Vandenbos &amp; Janis Ian</td>\n      <td>2021</td>\n    </tr>\n  </tbody>\n</table>\n<p>20785945 rows × 6 columns</p>\n</div>"
     },
     "metadata": {},
     "execution_count": 10
    }
   ],
   "source": [
    "merged"
   ]
  },
  {
   "cell_type": "code",
   "execution_count": 12,
   "metadata": {},
   "outputs": [],
   "source": [
    "del merged['Unnamed: 0']"
   ]
  },
  {
   "cell_type": "code",
   "execution_count": 13,
   "metadata": {},
   "outputs": [],
   "source": [
    "del merged['id']"
   ]
  },
  {
   "cell_type": "code",
   "execution_count": 14,
   "metadata": {},
   "outputs": [
    {
     "output_type": "execute_result",
     "data": {
      "text/plain": [
       "                          title duration_ms                        artist_y  \\\n",
       "0         The Ghost of Tom Joad      263000               Bruce Springsteen   \n",
       "1                 Straight Time      205000               Bruce Springsteen   \n",
       "2                    Highway 29      219000               Bruce Springsteen   \n",
       "3                    Youngstown      232000               Bruce Springsteen   \n",
       "4               Sinaloa Cowboys      231000               Bruce Springsteen   \n",
       "...                         ...         ...                             ...   \n",
       "20785940         Never Was Love      274900                       Russ Long   \n",
       "20785941             Mellow Out      263400                  Pacific Dreams   \n",
       "20785942        Key To My Heart      157300  Miller, Miller, Miller & Sloan   \n",
       "20785943    Blues Take You Over      214897                Scott Cunningham   \n",
       "20785944    Don't Leave Tonight      231000     Conny Vandenbos & Janis Ian   \n",
       "\n",
       "          created  \n",
       "0            2011  \n",
       "1            2011  \n",
       "2            2011  \n",
       "3            2011  \n",
       "4            2011  \n",
       "...           ...  \n",
       "20785940     2021  \n",
       "20785941     2021  \n",
       "20785942     2021  \n",
       "20785943     2021  \n",
       "20785944     2021  \n",
       "\n",
       "[20785945 rows x 4 columns]"
      ],
      "text/html": "<div>\n<style scoped>\n    .dataframe tbody tr th:only-of-type {\n        vertical-align: middle;\n    }\n\n    .dataframe tbody tr th {\n        vertical-align: top;\n    }\n\n    .dataframe thead th {\n        text-align: right;\n    }\n</style>\n<table border=\"1\" class=\"dataframe\">\n  <thead>\n    <tr style=\"text-align: right;\">\n      <th></th>\n      <th>title</th>\n      <th>duration_ms</th>\n      <th>artist_y</th>\n      <th>created</th>\n    </tr>\n  </thead>\n  <tbody>\n    <tr>\n      <th>0</th>\n      <td>The Ghost of Tom Joad</td>\n      <td>263000</td>\n      <td>Bruce Springsteen</td>\n      <td>2011</td>\n    </tr>\n    <tr>\n      <th>1</th>\n      <td>Straight Time</td>\n      <td>205000</td>\n      <td>Bruce Springsteen</td>\n      <td>2011</td>\n    </tr>\n    <tr>\n      <th>2</th>\n      <td>Highway 29</td>\n      <td>219000</td>\n      <td>Bruce Springsteen</td>\n      <td>2011</td>\n    </tr>\n    <tr>\n      <th>3</th>\n      <td>Youngstown</td>\n      <td>232000</td>\n      <td>Bruce Springsteen</td>\n      <td>2011</td>\n    </tr>\n    <tr>\n      <th>4</th>\n      <td>Sinaloa Cowboys</td>\n      <td>231000</td>\n      <td>Bruce Springsteen</td>\n      <td>2011</td>\n    </tr>\n    <tr>\n      <th>...</th>\n      <td>...</td>\n      <td>...</td>\n      <td>...</td>\n      <td>...</td>\n    </tr>\n    <tr>\n      <th>20785940</th>\n      <td>Never Was Love</td>\n      <td>274900</td>\n      <td>Russ Long</td>\n      <td>2021</td>\n    </tr>\n    <tr>\n      <th>20785941</th>\n      <td>Mellow Out</td>\n      <td>263400</td>\n      <td>Pacific Dreams</td>\n      <td>2021</td>\n    </tr>\n    <tr>\n      <th>20785942</th>\n      <td>Key To My Heart</td>\n      <td>157300</td>\n      <td>Miller, Miller, Miller &amp; Sloan</td>\n      <td>2021</td>\n    </tr>\n    <tr>\n      <th>20785943</th>\n      <td>Blues Take You Over</td>\n      <td>214897</td>\n      <td>Scott Cunningham</td>\n      <td>2021</td>\n    </tr>\n    <tr>\n      <th>20785944</th>\n      <td>Don't Leave Tonight</td>\n      <td>231000</td>\n      <td>Conny Vandenbos &amp; Janis Ian</td>\n      <td>2021</td>\n    </tr>\n  </tbody>\n</table>\n<p>20785945 rows × 4 columns</p>\n</div>"
     },
     "metadata": {},
     "execution_count": 14
    }
   ],
   "source": [
    "merged"
   ]
  },
  {
   "cell_type": "code",
   "execution_count": null,
   "metadata": {},
   "outputs": [],
   "source": [
    "merged.columns = ['title', 'duration_ms', 'artist', 'release_year']"
   ]
  },
  {
   "cell_type": "code",
   "execution_count": 23,
   "metadata": {},
   "outputs": [
    {
     "output_type": "execute_result",
     "data": {
      "text/plain": [
       "                          title duration_ms                          artist  \\\n",
       "0         The Ghost of Tom Joad      263000               Bruce Springsteen   \n",
       "1                 Straight Time      205000               Bruce Springsteen   \n",
       "2                    Highway 29      219000               Bruce Springsteen   \n",
       "3                    Youngstown      232000               Bruce Springsteen   \n",
       "4               Sinaloa Cowboys      231000               Bruce Springsteen   \n",
       "...                         ...         ...                             ...   \n",
       "20785940         Never Was Love      274900                       Russ Long   \n",
       "20785941             Mellow Out      263400                  Pacific Dreams   \n",
       "20785942        Key To My Heart      157300  Miller, Miller, Miller & Sloan   \n",
       "20785943    Blues Take You Over      214897                Scott Cunningham   \n",
       "20785944    Don't Leave Tonight      231000     Conny Vandenbos & Janis Ian   \n",
       "\n",
       "          release_year  \n",
       "0                 2011  \n",
       "1                 2011  \n",
       "2                 2011  \n",
       "3                 2011  \n",
       "4                 2011  \n",
       "...                ...  \n",
       "20785940          2021  \n",
       "20785941          2021  \n",
       "20785942          2021  \n",
       "20785943          2021  \n",
       "20785944          2021  \n",
       "\n",
       "[20785945 rows x 4 columns]"
      ],
      "text/html": "<div>\n<style scoped>\n    .dataframe tbody tr th:only-of-type {\n        vertical-align: middle;\n    }\n\n    .dataframe tbody tr th {\n        vertical-align: top;\n    }\n\n    .dataframe thead th {\n        text-align: right;\n    }\n</style>\n<table border=\"1\" class=\"dataframe\">\n  <thead>\n    <tr style=\"text-align: right;\">\n      <th></th>\n      <th>title</th>\n      <th>duration_ms</th>\n      <th>artist</th>\n      <th>release_year</th>\n    </tr>\n  </thead>\n  <tbody>\n    <tr>\n      <th>0</th>\n      <td>The Ghost of Tom Joad</td>\n      <td>263000</td>\n      <td>Bruce Springsteen</td>\n      <td>2011</td>\n    </tr>\n    <tr>\n      <th>1</th>\n      <td>Straight Time</td>\n      <td>205000</td>\n      <td>Bruce Springsteen</td>\n      <td>2011</td>\n    </tr>\n    <tr>\n      <th>2</th>\n      <td>Highway 29</td>\n      <td>219000</td>\n      <td>Bruce Springsteen</td>\n      <td>2011</td>\n    </tr>\n    <tr>\n      <th>3</th>\n      <td>Youngstown</td>\n      <td>232000</td>\n      <td>Bruce Springsteen</td>\n      <td>2011</td>\n    </tr>\n    <tr>\n      <th>4</th>\n      <td>Sinaloa Cowboys</td>\n      <td>231000</td>\n      <td>Bruce Springsteen</td>\n      <td>2011</td>\n    </tr>\n    <tr>\n      <th>...</th>\n      <td>...</td>\n      <td>...</td>\n      <td>...</td>\n      <td>...</td>\n    </tr>\n    <tr>\n      <th>20785940</th>\n      <td>Never Was Love</td>\n      <td>274900</td>\n      <td>Russ Long</td>\n      <td>2021</td>\n    </tr>\n    <tr>\n      <th>20785941</th>\n      <td>Mellow Out</td>\n      <td>263400</td>\n      <td>Pacific Dreams</td>\n      <td>2021</td>\n    </tr>\n    <tr>\n      <th>20785942</th>\n      <td>Key To My Heart</td>\n      <td>157300</td>\n      <td>Miller, Miller, Miller &amp; Sloan</td>\n      <td>2021</td>\n    </tr>\n    <tr>\n      <th>20785943</th>\n      <td>Blues Take You Over</td>\n      <td>214897</td>\n      <td>Scott Cunningham</td>\n      <td>2021</td>\n    </tr>\n    <tr>\n      <th>20785944</th>\n      <td>Don't Leave Tonight</td>\n      <td>231000</td>\n      <td>Conny Vandenbos &amp; Janis Ian</td>\n      <td>2021</td>\n    </tr>\n  </tbody>\n</table>\n<p>20785945 rows × 4 columns</p>\n</div>"
     },
     "metadata": {},
     "execution_count": 23
    }
   ],
   "source": [
    "merged"
   ]
  },
  {
   "cell_type": "code",
   "execution_count": 26,
   "metadata": {},
   "outputs": [],
   "source": [
    "merged.to_csv('final_merged.csv')"
   ]
  },
  {
   "cell_type": "code",
   "execution_count": null,
   "metadata": {},
   "outputs": [],
   "source": []
  }
 ],
 "metadata": {
  "kernelspec": {
   "name": "python392jvsc74a57bd0c4b5ddeffa96b492a6fbd8dfd40b85d28e15ccd4e1605dfb65837f43dd7fca18",
   "display_name": "Python 3.9.2 64-bit"
  }
 },
 "nbformat": 4,
 "nbformat_minor": 5
}