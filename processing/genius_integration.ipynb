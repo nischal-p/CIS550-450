{
 "metadata": {
  "language_info": {
   "codemirror_mode": {
    "name": "ipython",
    "version": 3
   },
   "file_extension": ".py",
   "mimetype": "text/x-python",
   "name": "python",
   "nbconvert_exporter": "python",
   "pygments_lexer": "ipython3",
   "version": "3.9.2"
  },
  "orig_nbformat": 2,
  "kernelspec": {
   "name": "python392jvsc74a57bd0aee8b7b246df8f9039afb4144a1f6fd8d2ca17a180786b69acc140d282b71a49",
   "display_name": "Python 3.9.2 64-bit"
  },
  "metadata": {
   "interpreter": {
    "hash": "aee8b7b246df8f9039afb4144a1f6fd8d2ca17a180786b69acc140d282b71a49"
   }
  }
 },
 "nbformat": 4,
 "nbformat_minor": 2,
 "cells": [
  {
   "cell_type": "code",
   "execution_count": 73,
   "metadata": {},
   "outputs": [],
   "source": [
    "import lyricsgenius\n",
    "import requests\n",
    "from bs4 import BeautifulSoup\n",
    "import re"
   ]
  },
  {
   "cell_type": "code",
   "execution_count": 13,
   "metadata": {},
   "outputs": [],
   "source": [
    "client = \"nefs-V59Jt79p7c1x6Op2bF0TTVu1nod1ClQ9cXnctOTDSUo83HdEnPTczCaFENN\"\n",
    "client_secret = \"qOcB3pa4eGWQJxOuBP-ZKuIfE431_7lWEvrG1FZekWzdFAMyHNwBm35HbYRz71xb6siVjGGdneVgDV15uE8mwg\"\n",
    "token = \"k-AKTCDhng1Ev1Xlg69Pj2h62GwbORBvRWRuLIcNJu9JmjxYS0aAcJUb-owQ6nyA\""
   ]
  },
  {
   "cell_type": "code",
   "execution_count": 48,
   "metadata": {},
   "outputs": [],
   "source": [
    "genius = lyricsgenius.Genius(token)"
   ]
  },
  {
   "cell_type": "code",
   "execution_count": 15,
   "metadata": {},
   "outputs": [
    {
     "output_type": "stream",
     "name": "stdout",
     "text": [
      "Searching for songs by Andy Shauf...\n",
      "\n",
      "Song 1: \"Alexander All Alone\"\n",
      "Song 2: \"All the Same\"\n",
      "Song 3: \"Angela\"\n",
      "\n",
      "Reached user-specified song limit (3).\n",
      "Done. Found 3 songs.\n",
      "[Song(id, artist, ...), Song(id, artist, ...), Song(id, artist, ...)]\n"
     ]
    }
   ],
   "source": [
    "artist = genius.search_artist(\"Andy Shauf\", max_songs=3, sort=\"title\")\n",
    "print(artist.songs)\n",
    "\n",
    "\n"
   ]
  },
  {
   "cell_type": "code",
   "execution_count": 8,
   "metadata": {},
   "outputs": [
    {
     "output_type": "stream",
     "name": "stdout",
     "text": [
      "Searching for \"To You\" by Andy Shauf...\n",
      "Done.\n",
      "Jeremy can we talk a minute?\n",
      "I've got some things that I need to\n",
      "Get off of my chest\n",
      "\n",
      "I know that we have had a few\n",
      "And it's far too late\n",
      "But if I wait I might never tell you\n",
      "\n",
      "Can we find somewhere quiet?\n",
      "Let's go outside\n",
      "I've got some smokes if you've got a light\n",
      "\n",
      "It's just that sometimes when I'm by your side\n",
      "It feels so right\n",
      "It feels like nothing could go wrong\n",
      "\n",
      "Does it ever\n",
      "Feel like that to you?\n",
      "Does it ever\n",
      "Feel like that to you?\n",
      "\n",
      "Oh I don't know what I mean\n",
      "It sounded wrong and I'm just tired\n",
      "Not being weird\n",
      "\n",
      "I just mean that you're a good friend\n",
      "It's hard to explain\n",
      "Just forget I said anything\n",
      "\n",
      "Get over yourself\n",
      "I'm not in love with you\n",
      "It just came out all wrong\n",
      "\n",
      "Yeah\n",
      "Tell the guys and laugh it up\n",
      "Why am I even surprised?\n",
      "\n",
      "That it never\n",
      "Feels like that to you\n",
      "That it never\n",
      "Feels like that to you\n",
      "I guess it never\n",
      "Feels like that to you\n",
      "I guess it never\n",
      "Feels like that to you\n"
     ]
    }
   ],
   "source": [
    "song = artist.song(\"To You\")\n",
    "print(song.lyrics)"
   ]
  },
  {
   "cell_type": "code",
   "execution_count": 23,
   "metadata": {},
   "outputs": [
    {
     "output_type": "error",
     "ename": "HTTPError",
     "evalue": "[Errno 404] 404 Client Error: Not Found for url: https://genius.com/api/artists/Uri/songs/search?q=Carve&sort=popularity\n404 Not Found",
     "traceback": [
      "\u001b[0;31m---------------------------------------------------------------------------\u001b[0m",
      "\u001b[0;31mHTTPError\u001b[0m                                 Traceback (most recent call last)",
      "\u001b[0;32m/usr/local/lib/python3.9/site-packages/lyricsgenius/api/base.py\u001b[0m in \u001b[0;36m_make_request\u001b[0;34m(self, path, method, params_, public_api, web, **kwargs)\u001b[0m\n\u001b[1;32m     79\u001b[0m                                                  **kwargs)\n\u001b[0;32m---> 80\u001b[0;31m                 \u001b[0mresponse\u001b[0m\u001b[0;34m.\u001b[0m\u001b[0mraise_for_status\u001b[0m\u001b[0;34m(\u001b[0m\u001b[0;34m)\u001b[0m\u001b[0;34m\u001b[0m\u001b[0;34m\u001b[0m\u001b[0m\n\u001b[0m\u001b[1;32m     81\u001b[0m             \u001b[0;32mexcept\u001b[0m \u001b[0mTimeout\u001b[0m \u001b[0;32mas\u001b[0m \u001b[0me\u001b[0m\u001b[0;34m:\u001b[0m\u001b[0;34m\u001b[0m\u001b[0;34m\u001b[0m\u001b[0m\n",
      "\u001b[0;32m/usr/local/lib/python3.9/site-packages/requests/models.py\u001b[0m in \u001b[0;36mraise_for_status\u001b[0;34m(self)\u001b[0m\n\u001b[1;32m    942\u001b[0m         \u001b[0;32mif\u001b[0m \u001b[0mhttp_error_msg\u001b[0m\u001b[0;34m:\u001b[0m\u001b[0;34m\u001b[0m\u001b[0;34m\u001b[0m\u001b[0m\n\u001b[0;32m--> 943\u001b[0;31m             \u001b[0;32mraise\u001b[0m \u001b[0mHTTPError\u001b[0m\u001b[0;34m(\u001b[0m\u001b[0mhttp_error_msg\u001b[0m\u001b[0;34m,\u001b[0m \u001b[0mresponse\u001b[0m\u001b[0;34m=\u001b[0m\u001b[0mself\u001b[0m\u001b[0;34m)\u001b[0m\u001b[0;34m\u001b[0m\u001b[0;34m\u001b[0m\u001b[0m\n\u001b[0m\u001b[1;32m    944\u001b[0m \u001b[0;34m\u001b[0m\u001b[0m\n",
      "\u001b[0;31mHTTPError\u001b[0m: 404 Client Error: Not Found for url: https://genius.com/api/artists/Uri/songs/search?q=Carve&sort=popularity",
      "\nDuring handling of the above exception, another exception occurred:\n",
      "\u001b[0;31mHTTPError\u001b[0m                                 Traceback (most recent call last)",
      "\u001b[0;32m<ipython-input-23-98ea2b4f4a8e>\u001b[0m in \u001b[0;36m<module>\u001b[0;34m\u001b[0m\n\u001b[0;32m----> 1\u001b[0;31m \u001b[0mgenius\u001b[0m\u001b[0;34m.\u001b[0m\u001b[0msearch_artist_songs\u001b[0m\u001b[0;34m(\u001b[0m\u001b[0martist_id\u001b[0m\u001b[0;34m=\u001b[0m\u001b[0;34m\"Uri\"\u001b[0m\u001b[0;34m,\u001b[0m \u001b[0msearch_term\u001b[0m\u001b[0;34m=\u001b[0m\u001b[0;34m\"Carve\"\u001b[0m\u001b[0;34m)\u001b[0m\u001b[0;34m\u001b[0m\u001b[0;34m\u001b[0m\u001b[0m\n\u001b[0m",
      "\u001b[0;32m/usr/local/lib/python3.9/site-packages/lyricsgenius/api/public_methods/artist.py\u001b[0m in \u001b[0;36msearch_artist_songs\u001b[0;34m(self, artist_id, search_term, per_page, page, sort)\u001b[0m\n\u001b[1;32m    172\u001b[0m                   \u001b[0;34m'page'\u001b[0m\u001b[0;34m:\u001b[0m \u001b[0mpage\u001b[0m\u001b[0;34m,\u001b[0m\u001b[0;34m\u001b[0m\u001b[0;34m\u001b[0m\u001b[0m\n\u001b[1;32m    173\u001b[0m                   'sort': sort}\n\u001b[0;32m--> 174\u001b[0;31m         \u001b[0;32mreturn\u001b[0m \u001b[0mself\u001b[0m\u001b[0;34m.\u001b[0m\u001b[0m_make_request\u001b[0m\u001b[0;34m(\u001b[0m\u001b[0mpath\u001b[0m\u001b[0;34m=\u001b[0m\u001b[0mendpoint\u001b[0m\u001b[0;34m,\u001b[0m \u001b[0mparams_\u001b[0m\u001b[0;34m=\u001b[0m\u001b[0mparams\u001b[0m\u001b[0;34m,\u001b[0m \u001b[0mpublic_api\u001b[0m\u001b[0;34m=\u001b[0m\u001b[0;32mTrue\u001b[0m\u001b[0;34m)\u001b[0m\u001b[0;34m\u001b[0m\u001b[0;34m\u001b[0m\u001b[0m\n\u001b[0m",
      "\u001b[0;32m/usr/local/lib/python3.9/site-packages/lyricsgenius/api/base.py\u001b[0m in \u001b[0;36m_make_request\u001b[0;34m(self, path, method, params_, public_api, web, **kwargs)\u001b[0m\n\u001b[1;32m     86\u001b[0m                 \u001b[0merror\u001b[0m \u001b[0;34m=\u001b[0m \u001b[0mget_description\u001b[0m\u001b[0;34m(\u001b[0m\u001b[0me\u001b[0m\u001b[0;34m)\u001b[0m\u001b[0;34m\u001b[0m\u001b[0;34m\u001b[0m\u001b[0m\n\u001b[1;32m     87\u001b[0m                 \u001b[0;32mif\u001b[0m \u001b[0mresponse\u001b[0m\u001b[0;34m.\u001b[0m\u001b[0mstatus_code\u001b[0m \u001b[0;34m<\u001b[0m \u001b[0;36m500\u001b[0m \u001b[0;32mor\u001b[0m \u001b[0mtries\u001b[0m \u001b[0;34m>\u001b[0m \u001b[0mself\u001b[0m\u001b[0;34m.\u001b[0m\u001b[0mretries\u001b[0m\u001b[0;34m:\u001b[0m\u001b[0;34m\u001b[0m\u001b[0;34m\u001b[0m\u001b[0m\n\u001b[0;32m---> 88\u001b[0;31m                     \u001b[0;32mraise\u001b[0m \u001b[0mHTTPError\u001b[0m\u001b[0;34m(\u001b[0m\u001b[0mresponse\u001b[0m\u001b[0;34m.\u001b[0m\u001b[0mstatus_code\u001b[0m\u001b[0;34m,\u001b[0m \u001b[0merror\u001b[0m\u001b[0;34m)\u001b[0m\u001b[0;34m\u001b[0m\u001b[0;34m\u001b[0m\u001b[0m\n\u001b[0m\u001b[1;32m     89\u001b[0m \u001b[0;34m\u001b[0m\u001b[0m\n\u001b[1;32m     90\u001b[0m             \u001b[0;31m# Enforce rate limiting\u001b[0m\u001b[0;34m\u001b[0m\u001b[0;34m\u001b[0m\u001b[0;34m\u001b[0m\u001b[0m\n",
      "\u001b[0;31mHTTPError\u001b[0m: [Errno 404] 404 Client Error: Not Found for url: https://genius.com/api/artists/Uri/songs/search?q=Carve&sort=popularity\n404 Not Found"
     ]
    }
   ],
   "source": [
    "genius.search_artist(\"Uri\", search_term=\"Carve\")"
   ]
  },
  {
   "cell_type": "code",
   "execution_count": null,
   "metadata": {},
   "outputs": [],
   "source": [
    "alphanumeric_filter = filter(str.isalnum, a_string)"
   ]
  },
  {
   "cell_type": "code",
   "execution_count": 74,
   "metadata": {},
   "outputs": [],
   "source": [
    "def scrape_lyrics(artistname, songname):\n",
    "    artistname2 = str(artistname.replace(' ','-')) if ' ' in artistname else str(artistname)\n",
    "    songname2 = str(re.sub(r'[^A-Za-z0-9 ]+', '', songname).replace(' ','-')) if ' ' in songname else str(songname)\n",
    "\n",
    "    print(f\"https://genius.com/{artistname2.lower().capitalize()}-{songname2.lower()}-lyrics\")\n",
    "    page = requests.get(f\"https://genius.com/{artistname2.lower().capitalize()}-{songname2}-lyrics\")\n",
    "    print(page)\n",
    "    html = BeautifulSoup(page.text, 'html.parser')\n",
    "    lyrics1 = html.find(\"div\", class_=\"lyrics\")\n",
    "    lyrics2 = html.find(\"div\", class_=\"Lyrics__Container-sc-1ynbvzw-2 jgQsqn\")\n",
    "    if lyrics1:\n",
    "        lyrics = lyrics1.get_text()\n",
    "    elif lyrics2:\n",
    "        lyrics = lyrics2.get_text()\n",
    "    elif lyrics1 == lyrics2 == None:\n",
    "        lyrics = None\n",
    "    return lyrics"
   ]
  },
  {
   "cell_type": "code",
   "execution_count": 75,
   "metadata": {},
   "outputs": [
    {
     "output_type": "stream",
     "name": "stdout",
     "text": [
      "https://genius.com/Finneas-what-theyll-say-about-us-lyrics\n",
      "<Response [200]>\n"
     ]
    }
   ],
   "source": [
    "lyrics = scrape_lyrics(\"FINNEAS\", \"What They'll Say About Us\")"
   ]
  },
  {
   "cell_type": "code",
   "execution_count": 76,
   "metadata": {},
   "outputs": [
    {
     "output_type": "stream",
     "name": "stdout",
     "text": [
      "\n\n[Verse 1]\nYou're tired now, lie down\nI'll be waitin' to give you the good news\nIt might take patience\nAnd when you wake up, it won't be over\nSo don't you give up\n\n[Chorus]\nWe've got the time to take the world\nAnd make it better than it ever was\nThat's what they'll say about us\n\n[Verse 2]\nIf I say a cliché, it's 'cause I mean it\nWe can't walk away, we gotta get in between it\nAnd when you wake up, we'll grow together\nSo don't you give up\n\n[Chorus]\nWe've got the time to take the world\nAnd make it better than it ever was\nThat's what they'll say about us\n\n[Bridge]\nI never said it would be easy\nI'm never giving up, believe me\nI used to think the pain would fade, but it never does\n\n[Outro]\nYou're tired now, lie down\nI'll be waitin' to give you the good news\nIt might take patience\nAnd if you don't wake up\nI'll know you tried to\nI wish you could see him\nHe looks just like you\n\n\n"
     ]
    }
   ],
   "source": [
    "print(lyrics)"
   ]
  },
  {
   "cell_type": "code",
   "execution_count": null,
   "metadata": {},
   "outputs": [],
   "source": [
    "genius.web_page()"
   ]
  }
 ]
}