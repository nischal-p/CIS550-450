{
 "metadata": {
  "language_info": {
   "codemirror_mode": {
    "name": "ipython",
    "version": 3
   },
   "file_extension": ".py",
   "mimetype": "text/x-python",
   "name": "python",
   "nbconvert_exporter": "python",
   "pygments_lexer": "ipython3",
   "version": "3.9.2"
  },
  "orig_nbformat": 2,
  "kernelspec": {
   "name": "python392jvsc74a57bd0aee8b7b246df8f9039afb4144a1f6fd8d2ca17a180786b69acc140d282b71a49",
   "display_name": "Python 3.9.2 64-bit"
  },
  "metadata": {
   "interpreter": {
    "hash": "aee8b7b246df8f9039afb4144a1f6fd8d2ca17a180786b69acc140d282b71a49"
   }
  }
 },
 "nbformat": 4,
 "nbformat_minor": 2,
 "cells": [
  {
   "cell_type": "code",
   "execution_count": 11,
   "metadata": {},
   "outputs": [
    {
     "output_type": "stream",
     "name": "stdout",
     "text": [
      "Collecting regex\n",
      "  Downloading regex-2021.4.4-cp39-cp39-macosx_10_9_x86_64.whl (284 kB)\n",
      "\u001b[K     |████████████████████████████████| 284 kB 3.4 MB/s \n",
      "\u001b[?25hInstalling collected packages: regex\n",
      "Successfully installed regex-2021.4.4\n"
     ]
    }
   ],
   "source": [
    "!pip install regex"
   ]
  },
  {
   "cell_type": "code",
   "execution_count": 12,
   "metadata": {},
   "outputs": [],
   "source": [
    "import pandas as pd\n",
    "import pandas as pd\n",
    "import pymysql\n",
    "from sqlalchemy import create_engine\n",
    "import regex\n",
    "import time\n",
    "import random\n",
    "import lyricsgenius\n",
    "import requests\n",
    "from bs4 import BeautifulSoup\n",
    "import re"
   ]
  },
  {
   "cell_type": "code",
   "execution_count": 5,
   "metadata": {},
   "outputs": [
    {
     "output_type": "execute_result",
     "data": {
      "text/plain": [
       "   Unnamed: 0              spotify_id                 title        name\n",
       "0           0  6FrUzUjdZ4Nlkfpbq2uO8u  Vapaus Johtaa Kansaa   51 Koodia\n",
       "1           1  1ek1hkCpOmyqvzwRCxglmh                  Fefe       Opiat\n",
       "2           2  23maNO7JsCROTTHsi2jK2Y                  Euro       Opiat\n",
       "3           3  4ecxwaxr4OYBJdVv57dWNY        Słuchaj Bracie       Opiat\n",
       "4           4  5nUE7g8CyXMw1I6fE2HJNd          Nike Air Max       Opiat"
      ],
      "text/html": "<div>\n<style scoped>\n    .dataframe tbody tr th:only-of-type {\n        vertical-align: middle;\n    }\n\n    .dataframe tbody tr th {\n        vertical-align: top;\n    }\n\n    .dataframe thead th {\n        text-align: right;\n    }\n</style>\n<table border=\"1\" class=\"dataframe\">\n  <thead>\n    <tr style=\"text-align: right;\">\n      <th></th>\n      <th>Unnamed: 0</th>\n      <th>spotify_id</th>\n      <th>title</th>\n      <th>name</th>\n    </tr>\n  </thead>\n  <tbody>\n    <tr>\n      <th>0</th>\n      <td>0</td>\n      <td>6FrUzUjdZ4Nlkfpbq2uO8u</td>\n      <td>Vapaus Johtaa Kansaa</td>\n      <td>51 Koodia</td>\n    </tr>\n    <tr>\n      <th>1</th>\n      <td>1</td>\n      <td>1ek1hkCpOmyqvzwRCxglmh</td>\n      <td>Fefe</td>\n      <td>Opiat</td>\n    </tr>\n    <tr>\n      <th>2</th>\n      <td>2</td>\n      <td>23maNO7JsCROTTHsi2jK2Y</td>\n      <td>Euro</td>\n      <td>Opiat</td>\n    </tr>\n    <tr>\n      <th>3</th>\n      <td>3</td>\n      <td>4ecxwaxr4OYBJdVv57dWNY</td>\n      <td>Słuchaj Bracie</td>\n      <td>Opiat</td>\n    </tr>\n    <tr>\n      <th>4</th>\n      <td>4</td>\n      <td>5nUE7g8CyXMw1I6fE2HJNd</td>\n      <td>Nike Air Max</td>\n      <td>Opiat</td>\n    </tr>\n  </tbody>\n</table>\n</div>"
     },
     "metadata": {},
     "execution_count": 5
    }
   ],
   "source": [
    "data = pd.read_csv('~/Downloads/songs_artists.csv')\n",
    "data.head()"
   ]
  },
  {
   "cell_type": "code",
   "execution_count": 13,
   "metadata": {},
   "outputs": [],
   "source": [
    "def scrape_lyrics(x):\n",
    "    time.sleep(0.01)\n",
    "    artistname = x[\"name\"]\n",
    "    songname = x[\"title\"]\n",
    "    artistname2 = str(artistname.replace(' ','-')) if ' ' in artistname else str(artistname)\n",
    "    songname2 = str(re.sub(r'[^A-Za-z0-9 ]+', '', songname).replace(' ','-')) if ' ' in songname else str(songname)\n",
    "    page = requests.get(f\"https://genius.com/{artistname2.lower().capitalize()}-{songname2}-lyrics\")\n",
    "    html = BeautifulSoup(page.text, 'html.parser')\n",
    "    lyrics1 = html.find(\"div\", class_=\"lyrics\")\n",
    "    lyrics2 = html.find(\"div\", class_=\"Lyrics__Container-sc-1ynbvzw-2 jgQsqn\")\n",
    "    if lyrics1:\n",
    "        lyrics = lyrics1.get_text()\n",
    "    elif lyrics2:\n",
    "        lyrics = lyrics2.get_text()\n",
    "    elif lyrics1 == lyrics2 == None:\n",
    "        lyrics = None\n",
    "    return lyrics"
   ]
  },
  {
   "cell_type": "code",
   "execution_count": 18,
   "metadata": {},
   "outputs": [
    {
     "output_type": "stream",
     "name": "stderr",
     "text": [
      "<ipython-input-18-9c8248886977>:2: SettingWithCopyWarning: \nA value is trying to be set on a copy of a slice from a DataFrame.\nTry using .loc[row_indexer,col_indexer] = value instead\n\nSee the caveats in the documentation: https://pandas.pydata.org/pandas-docs/stable/user_guide/indexing.html#returning-a-view-versus-a-copy\n  lyric_getter['lyrics'] = lyric_getter.apply(lambda x: scrape_lyrics(x), axis=1)\n"
     ]
    }
   ],
   "source": [
    "lyric_getter = data[:100]\n",
    "lyric_getter['lyrics'] = lyric_getter.apply(lambda x: scrape_lyrics(x), axis=1)\n",
    "lyric_getter.to_csv('lyrics_added.csv')"
   ]
  },
  {
   "cell_type": "code",
   "execution_count": null,
   "metadata": {},
   "outputs": [],
   "source": []
  }
 ]
}